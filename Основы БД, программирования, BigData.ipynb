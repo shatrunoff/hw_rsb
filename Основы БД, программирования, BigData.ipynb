{
 "cells": [
  {
   "cell_type": "markdown",
   "metadata": {},
   "source": [
    "# Основы BigData"
   ]
  },
  {
   "cell_type": "markdown",
   "metadata": {},
   "source": [
    "#### Задача:\n",
    "Напиши псевдокодом последовательность расчета word count в парадигме map-reduce.\n"
   ]
  },
  {
   "cell_type": "markdown",
   "metadata": {},
   "source": [
    "#### Решение:\n",
    "парадигма Map-Reduce состоит из двух отсновых частей:\n",
    "\n",
    "1. map - разделение данных по вычислительным машинам и работа с этими данными по отдельности\n",
    "\n",
    "2. reduce - сбор результатов вычислений воедино\n",
    "\n",
    "Предположим, что у нас есть несколько документов doc_id с текстом, нужно подсчитать количество слов, тогда в парадигме map-reduce \"код\" будет выглядеть следующим образом:\n",
    "\n"
   ]
  },
  {
   "cell_type": "code",
   "execution_count": null,
   "metadata": {},
   "outputs": [],
   "source": [
    "Map(doc_id, text):\n",
    "    for word in text:\n",
    "        add(word, 1)"
   ]
  },
  {
   "cell_type": "code",
   "execution_count": null,
   "metadata": {},
   "outputs": [],
   "source": [
    "Reduce(word, counts):\n",
    "    add(word, sum(counts))"
   ]
  },
  {
   "cell_type": "markdown",
   "metadata": {},
   "source": [
    "то есть во время Map каждому слову присвоили значение count = 1, а на этапе Reduce подсчитали значение суммы counts для каждого слова."
   ]
  },
  {
   "cell_type": "markdown",
   "metadata": {},
   "source": [
    "# Основы базы данных"
   ]
  },
  {
   "cell_type": "markdown",
   "metadata": {},
   "source": [
    "#### Задачи:\n",
    "1. Перечисли способы получить количество записей в таблице?\n",
    "2. Выполнится ли этот запрос?\n",
    "SELECT \n",
    "     order_id,\n",
    "     order_code,\n",
    "     SUM(order_value)\n",
    "FROM \n",
    "     orders\n",
    "GROUP BY\n",
    "     order_id\n"
   ]
  },
  {
   "cell_type": "markdown",
   "metadata": {},
   "source": [
    "#### Решение:\n"
   ]
  },
  {
   "cell_type": "markdown",
   "metadata": {},
   "source": [
    "### 1.\n",
    "а) SELECT COUNT(*) FROM table - классика жанра\n",
    "\n",
    "б) SELECT SUM(1) FROM table - берет колонку, заполненную единицами и суммирует значения этой колонки, что и будет равно кол-ву записей\n",
    "\n",
    "в) SHOW TABLE STATUS - выводит информацию о таблице, в том числе будет указано кол-во записей"
   ]
  },
  {
   "cell_type": "markdown",
   "metadata": {},
   "source": [
    "### 2.\n",
    " Запрос выполнится, но в нем нет смысла. Он группирует по уникальным order_id, т.е. никакой группировки и не будет (значения и так уникальны).\n",
    "\n",
    "Этот запрос аналогичен более простому \n",
    "SELECT \n",
    "     order_id,\n",
    "     order_code,\n",
    "     order_value\n",
    "FROM \n",
    "     orders"
   ]
  },
  {
   "cell_type": "markdown",
   "metadata": {},
   "source": [
    "# Основы программирования"
   ]
  },
  {
   "cell_type": "markdown",
   "metadata": {},
   "source": [
    "#### Задачи:\n",
    "1. Дан массив целых чисел nums и целое число target. Написать функцию, возвращающую индексы элементов, дающих в сумме число target?\n",
    "2. Предполагается, что в каждом массиве имеется не больше одной пары дающих в сумме заданное число target. Нельзя использовать один и тот же элемент дважды?\n"
   ]
  },
  {
   "cell_type": "markdown",
   "metadata": {},
   "source": [
    "#### Решение:\n",
    "\n",
    "Условие задачи, в той инетерпретации, что описана выше, очень неоднозначно.\n",
    "\n",
    "Пояснение: согласно первому условию нужно \"вернуть индексы элементов, дающих в сумме target\", то есть задача решается полным перебором всех возможных комбинация чисел внутри массива. Сложность такого алгоритма - $O(2^n)$ (худший случай), где $n = len(nums)$. При рассмотрении массива длины 10 придется перебрать до 1024 значений. \n",
    "\n",
    "Поэтому, полагаю, что требуется в конечном итоге найти индексы уникальной(единственной) пары элементов массива nums, дающих в сумме target.\n"
   ]
  },
  {
   "cell_type": "markdown",
   "metadata": {},
   "source": [
    "Можно пройтись по всем элементам в два вложенных цикла, но сложность такого алгоритма $O(n^2)$ - в целом рабочий алгоритм, но для nums большой длины не подходит, т.к. $n = len(nums)$.\n",
    "\n",
    "Поэтому пару \"число-индекс\" заносим в словарь. Работаем только с самим массивом nums, а после нахождения пары обратимся к словарю для выдачи индексов. Сложность $O(n)$, но работа алгоритма возможна только при уникальности значения каждого элемента массива, т.к. ключи не могут иметь одинаковых значений. Пример некорректной работы вышеописанного алгоритма приведен ниже."
   ]
  },
  {
   "cell_type": "code",
   "execution_count": 3,
   "metadata": {},
   "outputs": [
    {
     "data": {
      "text/plain": [
       "(1, 3)"
      ]
     },
     "execution_count": 3,
     "metadata": {},
     "output_type": "execute_result"
    }
   ],
   "source": [
    "# решение \"в лоб\". Сложность O(n^2)\n",
    "\n",
    "def pair_index(nums, target):\n",
    "\n",
    "    for i in range(0, len(nums)):\n",
    "        for j in range(i + 1, len(nums)):\n",
    "            if nums[i] + nums[j] == target:\n",
    "                return i, j\n",
    "\n",
    "    return False\n",
    "\n",
    "pair_index([0, 3, 2, 3, 11, 5, 12, 70, 81, 9], 6)"
   ]
  },
  {
   "cell_type": "code",
   "execution_count": 4,
   "metadata": {},
   "outputs": [
    {
     "name": "stdout",
     "output_type": "stream",
     "text": [
      "(2, 2)\n",
      "(3, 2)\n"
     ]
    }
   ],
   "source": [
    "# эффективный алгоритм, но только для случая уникальных элементов массива nums (без повторов).\n",
    "# В проверке ниже, указан случай в котором алгоритм ошибается.\n",
    "\n",
    "def two_(nums, target):\n",
    "\n",
    "    prevnums = set()\n",
    "    nums_dict = dict(zip(nums, [i for i in range(len(nums))]))\n",
    "\n",
    "    for now_num in nums:\n",
    "        if target - now_num in prevnums:\n",
    "            return nums_dict[now_num], nums_dict[target - now_num]\n",
    "        prevnums.add(now_num)\n",
    "    return False\n",
    "\n",
    "print(two_([0, 2, 2, 3, 11, 5, 12, 70, 81, 9], 4))\n",
    "\n",
    "print(two_([0, 2, 2, 3, 11, 5, 12, 70, 81, 9], 5))"
   ]
  }
 ],
 "metadata": {
  "interpreter": {
   "hash": "e875da07fb70c8caae458d7e2320014aa0af5a4762ecfd5bd04cf4d861557077"
  },
  "kernelspec": {
   "display_name": "Python 3.9.5 64-bit",
   "language": "python",
   "name": "python3"
  },
  "language_info": {
   "codemirror_mode": {
    "name": "ipython",
    "version": 3
   },
   "file_extension": ".py",
   "mimetype": "text/x-python",
   "name": "python",
   "nbconvert_exporter": "python",
   "pygments_lexer": "ipython3",
   "version": "3.9.5"
  },
  "orig_nbformat": 4
 },
 "nbformat": 4,
 "nbformat_minor": 2
}
